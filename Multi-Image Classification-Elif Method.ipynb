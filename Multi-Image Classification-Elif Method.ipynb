{
 "cells": [
  {
   "cell_type": "code",
   "execution_count": 1,
   "metadata": {},
   "outputs": [
    {
     "name": "stderr",
     "output_type": "stream",
     "text": [
      "Using TensorFlow backend.\n",
      "c:\\users\\hp\\anaconda3\\envs\\vks_test\\lib\\site-packages\\tensorflow\\python\\framework\\dtypes.py:516: FutureWarning: Passing (type, 1) or '1type' as a synonym of type is deprecated; in a future version of numpy, it will be understood as (type, (1,)) / '(1,)type'.\n",
      "  _np_qint8 = np.dtype([(\"qint8\", np.int8, 1)])\n",
      "c:\\users\\hp\\anaconda3\\envs\\vks_test\\lib\\site-packages\\tensorflow\\python\\framework\\dtypes.py:517: FutureWarning: Passing (type, 1) or '1type' as a synonym of type is deprecated; in a future version of numpy, it will be understood as (type, (1,)) / '(1,)type'.\n",
      "  _np_quint8 = np.dtype([(\"quint8\", np.uint8, 1)])\n",
      "c:\\users\\hp\\anaconda3\\envs\\vks_test\\lib\\site-packages\\tensorflow\\python\\framework\\dtypes.py:518: FutureWarning: Passing (type, 1) or '1type' as a synonym of type is deprecated; in a future version of numpy, it will be understood as (type, (1,)) / '(1,)type'.\n",
      "  _np_qint16 = np.dtype([(\"qint16\", np.int16, 1)])\n",
      "c:\\users\\hp\\anaconda3\\envs\\vks_test\\lib\\site-packages\\tensorflow\\python\\framework\\dtypes.py:519: FutureWarning: Passing (type, 1) or '1type' as a synonym of type is deprecated; in a future version of numpy, it will be understood as (type, (1,)) / '(1,)type'.\n",
      "  _np_quint16 = np.dtype([(\"quint16\", np.uint16, 1)])\n",
      "c:\\users\\hp\\anaconda3\\envs\\vks_test\\lib\\site-packages\\tensorflow\\python\\framework\\dtypes.py:520: FutureWarning: Passing (type, 1) or '1type' as a synonym of type is deprecated; in a future version of numpy, it will be understood as (type, (1,)) / '(1,)type'.\n",
      "  _np_qint32 = np.dtype([(\"qint32\", np.int32, 1)])\n",
      "c:\\users\\hp\\anaconda3\\envs\\vks_test\\lib\\site-packages\\tensorflow\\python\\framework\\dtypes.py:525: FutureWarning: Passing (type, 1) or '1type' as a synonym of type is deprecated; in a future version of numpy, it will be understood as (type, (1,)) / '(1,)type'.\n",
      "  np_resource = np.dtype([(\"resource\", np.ubyte, 1)])\n",
      "c:\\users\\hp\\anaconda3\\envs\\vks_test\\lib\\site-packages\\tensorboard\\compat\\tensorflow_stub\\dtypes.py:541: FutureWarning: Passing (type, 1) or '1type' as a synonym of type is deprecated; in a future version of numpy, it will be understood as (type, (1,)) / '(1,)type'.\n",
      "  _np_qint8 = np.dtype([(\"qint8\", np.int8, 1)])\n",
      "c:\\users\\hp\\anaconda3\\envs\\vks_test\\lib\\site-packages\\tensorboard\\compat\\tensorflow_stub\\dtypes.py:542: FutureWarning: Passing (type, 1) or '1type' as a synonym of type is deprecated; in a future version of numpy, it will be understood as (type, (1,)) / '(1,)type'.\n",
      "  _np_quint8 = np.dtype([(\"quint8\", np.uint8, 1)])\n",
      "c:\\users\\hp\\anaconda3\\envs\\vks_test\\lib\\site-packages\\tensorboard\\compat\\tensorflow_stub\\dtypes.py:543: FutureWarning: Passing (type, 1) or '1type' as a synonym of type is deprecated; in a future version of numpy, it will be understood as (type, (1,)) / '(1,)type'.\n",
      "  _np_qint16 = np.dtype([(\"qint16\", np.int16, 1)])\n",
      "c:\\users\\hp\\anaconda3\\envs\\vks_test\\lib\\site-packages\\tensorboard\\compat\\tensorflow_stub\\dtypes.py:544: FutureWarning: Passing (type, 1) or '1type' as a synonym of type is deprecated; in a future version of numpy, it will be understood as (type, (1,)) / '(1,)type'.\n",
      "  _np_quint16 = np.dtype([(\"quint16\", np.uint16, 1)])\n",
      "c:\\users\\hp\\anaconda3\\envs\\vks_test\\lib\\site-packages\\tensorboard\\compat\\tensorflow_stub\\dtypes.py:545: FutureWarning: Passing (type, 1) or '1type' as a synonym of type is deprecated; in a future version of numpy, it will be understood as (type, (1,)) / '(1,)type'.\n",
      "  _np_qint32 = np.dtype([(\"qint32\", np.int32, 1)])\n",
      "c:\\users\\hp\\anaconda3\\envs\\vks_test\\lib\\site-packages\\tensorboard\\compat\\tensorflow_stub\\dtypes.py:550: FutureWarning: Passing (type, 1) or '1type' as a synonym of type is deprecated; in a future version of numpy, it will be understood as (type, (1,)) / '(1,)type'.\n",
      "  np_resource = np.dtype([(\"resource\", np.ubyte, 1)])\n"
     ]
    }
   ],
   "source": [
    "from keras.models import Sequential\n",
    "from keras.layers import Conv2D\n",
    "from keras.layers import MaxPooling2D\n",
    "from keras.layers import Flatten\n",
    "from keras.layers import Dense"
   ]
  },
  {
   "cell_type": "code",
   "execution_count": 8,
   "metadata": {},
   "outputs": [
    {
     "name": "stdout",
     "output_type": "stream",
     "text": [
      "Found 60 images belonging to 3 classes.\n",
      "Found 60 images belonging to 3 classes.\n",
      "Epoch 1/5\n",
      "8/8 [==============================] - 5s 684ms/step - loss: 1.1328 - accuracy: 0.5646 - val_loss: 0.7640 - val_accuracy: 0.8667\n",
      "Epoch 2/5\n",
      "8/8 [==============================] - 5s 627ms/step - loss: 0.6276 - accuracy: 0.9187 - val_loss: 0.4317 - val_accuracy: 0.9667\n",
      "Epoch 3/5\n",
      "8/8 [==============================] - 5s 648ms/step - loss: 0.3284 - accuracy: 0.9896 - val_loss: 0.2296 - val_accuracy: 1.0000\n",
      "Epoch 4/5\n",
      "8/8 [==============================] - 5s 640ms/step - loss: 0.1872 - accuracy: 1.0000 - val_loss: 0.1425 - val_accuracy: 1.0000\n",
      "Epoch 5/5\n",
      "8/8 [==============================] - 5s 633ms/step - loss: 0.1279 - accuracy: 1.0000 - val_loss: 0.1074 - val_accuracy: 1.0000\n"
     ]
    }
   ],
   "source": [
    "\n",
    "import numpy as np\n",
    "from keras.layers import Conv2D\n",
    "from keras.layers import Dense\n",
    "from keras.layers import Flatten\n",
    "from keras.layers import MaxPooling2D\n",
    "from keras.models import Sequential\n",
    "from keras.preprocessing import image\n",
    "from keras.utils import *\n",
    "\n",
    "\n",
    "# Declaring Variable\n",
    "\n",
    "Img= Sequential()\n",
    "\n",
    "#Adding Covn layer\n",
    "\n",
    "Img.add(Conv2D(32,(3,3), input_shape=(64,64,3), activation='relu'))\n",
    "\n",
    "#doing pooling operation\n",
    "\n",
    "Img.add(MaxPooling2D(pool_size=(2,2)))\n",
    "\n",
    "#Flattening the Output from Conv Layer\n",
    "\n",
    "Img.add(Flatten())\n",
    "\n",
    "#Creating Neural Network by declaring no.of cells\n",
    "\n",
    "Img.add(Dense(units=128, activation='relu'))\n",
    "Img.add(Dense(units=64, activation='sigmoid'))\n",
    "Img.add(Dense(units=4, activation='softmax'))\n",
    "\n",
    "#Compiling Network by giving Loss Function and Optimizer\n",
    "\n",
    "Img.compile(optimizer='adam', loss='sparse_categorical_crossentropy', metrics=['accuracy'])\n",
    "\n",
    "#Part 2\n",
    "#Fitting Images to the network\n",
    "\n",
    "from keras.preprocessing.image import ImageDataGenerator as ID\n",
    "\n",
    "train_data=ID(rescale=1./255)\n",
    "\n",
    "\n",
    "test_data=ID(rescale=1./255)\n",
    "\n",
    "\n",
    "# Mapping images from local disk\n",
    "\n",
    "train_set= train_data.flow_from_directory('E:\\cnnClassifier\\Img',target_size=(64,64),batch_size=64,class_mode='binary')\n",
    "\n",
    "test_set= test_data.flow_from_directory('E:\\cnnClassifier\\Img',target_size = (64, 64),batch_size = 32,class_mode = 'binary')\n",
    "\n",
    "\n",
    "model=Img.fit_generator(train_set,steps_per_epoch = 8,epochs = 5,validation_data = test_set,validation_steps = 2)\n",
    "\n",
    "\n",
    "Img.save(\"Family.h5\")\n",
    "\n",
    "\n"
   ]
  },
  {
   "cell_type": "code",
   "execution_count": 10,
   "metadata": {},
   "outputs": [
    {
     "name": "stdout",
     "output_type": "stream",
     "text": [
      "{'kante': 0, 'son': 1, 'vardy': 2}\n",
      "[[0.8782137  0.03341531 0.07346712 0.0149038 ]]\n",
      "kante\n"
     ]
    }
   ],
   "source": [
    "# Now Predicting the Image\n",
    "test_img = image.load_img(r'E:\\parent\\kante\\3.jpg', target_size = (64, 64))\n",
    "test_img = image.img_to_array(test_img)\n",
    "\n",
    "test_img = np.expand_dims(test_img, axis=0)\n",
    "\n",
    "result = Img.predict(test_img)\n",
    "\n",
    "train_set.class_indices\n",
    "print(train_set.class_indices)\n",
    "print(result)\n",
    "\n",
    "if result[0][0] >= .5:\n",
    "    prediction = \"kante\"\n",
    "    print(prediction)\n",
    "elif result[0][1] >= .5:\n",
    "    prediction = \"son\"\n",
    "    print(prediction)\n",
    "elif result[0][2] >= .5:\n",
    "    prediction = \"vardy\"\n",
    "    print(prediction)\n",
    "\n",
    "\n",
    "else:\n",
    "    prediction = \"Picture not Identified\"\n",
    "    print(prediction)"
   ]
  },
  {
   "cell_type": "code",
   "execution_count": null,
   "metadata": {},
   "outputs": [],
   "source": []
  },
  {
   "cell_type": "code",
   "execution_count": null,
   "metadata": {},
   "outputs": [],
   "source": []
  },
  {
   "cell_type": "code",
   "execution_count": null,
   "metadata": {},
   "outputs": [],
   "source": []
  },
  {
   "cell_type": "code",
   "execution_count": null,
   "metadata": {},
   "outputs": [],
   "source": []
  }
 ],
 "metadata": {
  "kernelspec": {
   "display_name": "Python 3",
   "language": "python",
   "name": "python3"
  },
  "language_info": {
   "codemirror_mode": {
    "name": "ipython",
    "version": 3
   },
   "file_extension": ".py",
   "mimetype": "text/x-python",
   "name": "python",
   "nbconvert_exporter": "python",
   "pygments_lexer": "ipython3",
   "version": "3.6.9"
  }
 },
 "nbformat": 4,
 "nbformat_minor": 4
}
